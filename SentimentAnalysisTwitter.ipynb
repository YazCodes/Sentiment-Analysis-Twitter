{
  "nbformat": 4,
  "nbformat_minor": 0,
  "metadata": {
    "colab": {
      "name": "SentimentAnalysisTwitter.ipynb",
      "provenance": [],
      "authorship_tag": "ABX9TyO0hPqnxlRwBRDubJoiCwzH",
      "include_colab_link": true
    },
    "kernelspec": {
      "name": "python3",
      "display_name": "Python 3"
    }
  },
  "cells": [
    {
      "cell_type": "markdown",
      "metadata": {
        "id": "view-in-github",
        "colab_type": "text"
      },
      "source": [
        "<a href=\"https://colab.research.google.com/github/YazCodes/Sentiment-Analysis-Twitter/blob/main/SentimentAnalysisTwitter.ipynb\" target=\"_parent\"><img src=\"https://colab.research.google.com/assets/colab-badge.svg\" alt=\"Open In Colab\"/></a>"
      ]
    },
    {
      "cell_type": "code",
      "metadata": {
        "colab": {
          "base_uri": "https://localhost:8080/"
        },
        "id": "zl0-4Gj-LJqE",
        "outputId": "7b4610fb-d131-4463-fdd1-7063c2a54938"
      },
      "source": [
        "# import libraries\r\n",
        "import pandas as pd\r\n",
        "import numpy as np\r\n",
        "\r\n",
        "# libraries for data preprocessing\r\n",
        "import nltk\r\n",
        "# download modules available with NLTK\r\n",
        "nltk.download('punkt')\r\n",
        "nltk.download('wordnet')\r\n",
        "nltk.download('stopwords')\r\n",
        "\r\n",
        "from nltk.tokenize import TweetTokenizer #text preprocessing\r\n",
        "from nltk.stem import WordNetLemmatizer\r\n",
        "from nltk.corpus import stopwords\r\n",
        "\r\n",
        "# libraries for data split and feature extraction\r\n",
        "from sklearn.model_selection import train_test_split\r\n",
        "from sklearn.feature_extraction.text import CountVectorizer\r\n",
        "from sklearn.feature_extraction.text import TfidfVectorizer\r\n",
        "\r\n",
        "# library for evaluation\r\n",
        "from sklearn import metrics\r\n",
        "\r\n",
        "# libraries for ML algorithms for the experiment \r\n",
        "from sklearn import svm\r\n",
        "from sklearn import tree\r\n",
        "from sklearn.naive_bayes import GaussianNB\r\n",
        "\r\n",
        "# libraries for data plotting\r\n",
        "import matplotlib.pyplot as plt "
      ],
      "execution_count": 10,
      "outputs": [
        {
          "output_type": "stream",
          "text": [
            "[nltk_data] Downloading package punkt to /root/nltk_data...\n",
            "[nltk_data]   Package punkt is already up-to-date!\n",
            "[nltk_data] Downloading package wordnet to /root/nltk_data...\n",
            "[nltk_data]   Package wordnet is already up-to-date!\n",
            "[nltk_data] Downloading package stopwords to /root/nltk_data...\n",
            "[nltk_data]   Package stopwords is already up-to-date!\n"
          ],
          "name": "stdout"
        }
      ]
    },
    {
      "cell_type": "code",
      "metadata": {
        "colab": {
          "base_uri": "https://localhost:8080/",
          "height": 214
        },
        "id": "7SMf5GsFM7z5",
        "outputId": "76951861-cfb7-404d-d5eb-4ad7378628c8"
      },
      "source": [
        "#uploading the dataset\r\n",
        "# read csv file into a dataframe\r\n",
        "df = pd.read_csv('/content/train.csv')\r\n",
        "\r\n",
        "# find out the number of entires \r\n",
        "print(f'Number of entries: {len(df)}')\r\n",
        "df.head()"
      ],
      "execution_count": 2,
      "outputs": [
        {
          "output_type": "stream",
          "text": [
            "Number of entries: 16363\n"
          ],
          "name": "stdout"
        },
        {
          "output_type": "execute_result",
          "data": {
            "text/html": [
              "<div>\n",
              "<style scoped>\n",
              "    .dataframe tbody tr th:only-of-type {\n",
              "        vertical-align: middle;\n",
              "    }\n",
              "\n",
              "    .dataframe tbody tr th {\n",
              "        vertical-align: top;\n",
              "    }\n",
              "\n",
              "    .dataframe thead th {\n",
              "        text-align: right;\n",
              "    }\n",
              "</style>\n",
              "<table border=\"1\" class=\"dataframe\">\n",
              "  <thead>\n",
              "    <tr style=\"text-align: right;\">\n",
              "      <th></th>\n",
              "      <th>Id</th>\n",
              "      <th>Text</th>\n",
              "      <th>Sentiment</th>\n",
              "    </tr>\n",
              "  </thead>\n",
              "  <tbody>\n",
              "    <tr>\n",
              "      <th>0</th>\n",
              "      <td>549e992a42</td>\n",
              "      <td>Sooo SAD I will miss you here in San Diego!!!</td>\n",
              "      <td>negative</td>\n",
              "    </tr>\n",
              "    <tr>\n",
              "      <th>1</th>\n",
              "      <td>088c60f138</td>\n",
              "      <td>my boss is bullying me...</td>\n",
              "      <td>negative</td>\n",
              "    </tr>\n",
              "    <tr>\n",
              "      <th>2</th>\n",
              "      <td>9642c003ef</td>\n",
              "      <td>what interview! leave me alone</td>\n",
              "      <td>negative</td>\n",
              "    </tr>\n",
              "    <tr>\n",
              "      <th>3</th>\n",
              "      <td>358bd9e861</td>\n",
              "      <td>Sons of ****, why couldn`t they put them on t...</td>\n",
              "      <td>negative</td>\n",
              "    </tr>\n",
              "    <tr>\n",
              "      <th>4</th>\n",
              "      <td>6e0c6d75b1</td>\n",
              "      <td>2am feedings for the baby are fun when he is a...</td>\n",
              "      <td>positive</td>\n",
              "    </tr>\n",
              "  </tbody>\n",
              "</table>\n",
              "</div>"
            ],
            "text/plain": [
              "           Id                                               Text Sentiment\n",
              "0  549e992a42      Sooo SAD I will miss you here in San Diego!!!  negative\n",
              "1  088c60f138                          my boss is bullying me...  negative\n",
              "2  9642c003ef                     what interview! leave me alone  negative\n",
              "3  358bd9e861   Sons of ****, why couldn`t they put them on t...  negative\n",
              "4  6e0c6d75b1  2am feedings for the baby are fun when he is a...  positive"
            ]
          },
          "metadata": {
            "tags": []
          },
          "execution_count": 2
        }
      ]
    },
    {
      "cell_type": "code",
      "metadata": {
        "colab": {
          "base_uri": "https://localhost:8080/",
          "height": 329
        },
        "id": "cjyNjWYxNafi",
        "outputId": "76fdc92b-9658-40df-f715-a8bac8a540b8"
      },
      "source": [
        "#Analysising the data - Compare the amount of postitive and negative tweets \r\n",
        "temp_df = df[['Text', 'Sentiment']] #Using the text and sentiment colomn to plot the graph\r\n",
        "temp_df = temp_df.groupby('Sentiment').count() #count the number of diffrent elements in the sentiment column \r\n",
        "temp_df.plot.bar() #plot the bar chart "
      ],
      "execution_count": 3,
      "outputs": [
        {
          "output_type": "execute_result",
          "data": {
            "text/plain": [
              "<matplotlib.axes._subplots.AxesSubplot at 0x7f0686f59fd0>"
            ]
          },
          "metadata": {
            "tags": []
          },
          "execution_count": 3
        },
        {
          "output_type": "display_data",
          "data": {
            "image/png": "[encoded data removed]",
            "text/plain": [
              "<Figure size 432x288 with 1 Axes>"
            ]
          },
          "metadata": {
            "tags": [],
            "needs_background": "light"
          }
        }
      ]
    },
    {
      "cell_type": "code",
      "metadata": {
        "colab": {
          "base_uri": "https://localhost:8080/"
        },
        "id": "_23hi3D8O-YA",
        "outputId": "8bbb2e0d-1f99-4778-c00b-c6aeb0c5b91b"
      },
      "source": [
        "#Data cleaning  - Important step as the ML model and data processing cannot start if the dataset contains missing values\r\n",
        "\r\n",
        "df.isnull().values.any() #This shows if there are any missing values in the dataset. True = yes false = No\r\n",
        "\r\n",
        "df = df.dropna() #drop any rows with missing values - just in case \r\n",
        "\r\n",
        "print(f'Number of entries: {len(df)}') #check if the number of entries have changed"
      ],
      "execution_count": 8,
      "outputs": [
        {
          "output_type": "stream",
          "text": [
            "Number of entries: 16363\n"
          ],
          "name": "stdout"
        }
      ]
    },
    {
      "cell_type": "markdown",
      "metadata": {
        "id": "WlLLvcgXORMc"
      },
      "source": [
        "**The results of inital data analysis** \r\n",
        "The dataset contains 16363 entires consisting of three columns. \r\n",
        "\r\n",
        "\r\n",
        "1.   ID - The Id number of each text \r\n",
        "2.   Text - The tweet in text format \r\n",
        "3.   Sentiment - Indicating if the text is postive or negative\r\n",
        "\r\n",
        "\r\n",
        "The bar charts show the data set contains under 8000 negative tweets and about 8000 postive tweets. So nearly an equal split. \r\n",
        "\r\n",
        "During data cleaning there was no missing values"
      ]
    },
    {
      "cell_type": "code",
      "metadata": {
        "colab": {
          "base_uri": "https://localhost:8080/",
          "height": 248
        },
        "id": "s2P2BqK8OQDS",
        "outputId": "62622e70-4cee-42f0-cec6-f33014e9f6cf"
      },
      "source": [
        "#Data preprocessing - This transforms the raw data into an understantable format \r\n",
        "\r\n",
        "#Tokenisation - This is the process in NLP of splitting up text into smaller individual words called Tokens\r\n",
        "#Tokenisation is important as large amounts of text data needs to be broken down into smaller units of text so our ML models can understand. \r\n",
        "\r\n",
        "#Text preprocessing - cleaning and preparing text data\r\n",
        "#Selecting a tokenizer model. -  word_tokenize - Tokenizer for normal text\r\n",
        "\r\n",
        "#TweetTokenizer - Tokenizer for tweets - As the dataset contains text in the form of tweets we will be using this . \r\n",
        "\r\n",
        "list_tokenised_text = []  #Creat an empty list\r\n",
        "\r\n",
        "for text in df['Text']: # Converting text to tokens by iterating through each row in 'Text' columm. \r\n",
        "  tokenized_text = TweetTokenizer(text)\r\n",
        "  list_tokenised_text.append(tokenized_text) #Adding the tokenzie text inside the empty list \r\n",
        "\r\n",
        "print(list_tokenised_text[:2]) #the list containing the tokenzied text \r\n",
        "\r\n",
        "#After tokenizing we need to put them back into sentences \r\n",
        "\r\n",
        "list_tokenised_sentences = []\r\n",
        "for tokens in list_tokenised_text:\r\n",
        "  text = ' '.join(tokens)\r\n",
        "  list_tokenised_sentences.append(text)\r\n",
        "\r\n",
        "# adding a  new column to data frame\r\n",
        "df['Tokenised_Text'] = list_tokenised_sentences\r\n",
        "\r\n"
      ],
      "execution_count": 11,
      "outputs": [
        {
          "output_type": "stream",
          "text": [
            "[<nltk.tokenize.casual.TweetTokenizer object at 0x7f0685e03710>, <nltk.tokenize.casual.TweetTokenizer object at 0x7f0685e03748>]\n"
          ],
          "name": "stdout"
        },
        {
          "output_type": "error",
          "ename": "TypeError",
          "evalue": "ignored",
          "traceback": [
            "\u001b[0;31m---------------------------------------------------------------------------\u001b[0m",
            "\u001b[0;31mTypeError\u001b[0m                                 Traceback (most recent call last)",
            "\u001b[0;32m<ipython-input-11-8d2e774c5d70>\u001b[0m in \u001b[0;36m<module>\u001b[0;34m()\u001b[0m\n\u001b[1;32m     21\u001b[0m \u001b[0mlist_tokenised_sentences\u001b[0m \u001b[0;34m=\u001b[0m \u001b[0;34m[\u001b[0m\u001b[0;34m]\u001b[0m\u001b[0;34m\u001b[0m\u001b[0;34m\u001b[0m\u001b[0m\n\u001b[1;32m     22\u001b[0m \u001b[0;32mfor\u001b[0m \u001b[0mtokens\u001b[0m \u001b[0;32min\u001b[0m \u001b[0mlist_tokenised_text\u001b[0m\u001b[0;34m:\u001b[0m\u001b[0;34m\u001b[0m\u001b[0;34m\u001b[0m\u001b[0m\n\u001b[0;32m---> 23\u001b[0;31m   \u001b[0mtext\u001b[0m \u001b[0;34m=\u001b[0m \u001b[0;34m' '\u001b[0m\u001b[0;34m.\u001b[0m\u001b[0mjoin\u001b[0m\u001b[0;34m(\u001b[0m\u001b[0mtokens\u001b[0m\u001b[0;34m)\u001b[0m\u001b[0;34m\u001b[0m\u001b[0;34m\u001b[0m\u001b[0m\n\u001b[0m\u001b[1;32m     24\u001b[0m   \u001b[0mlist_tokenised_sentences\u001b[0m\u001b[0;34m.\u001b[0m\u001b[0mappend\u001b[0m\u001b[0;34m(\u001b[0m\u001b[0mtext\u001b[0m\u001b[0;34m)\u001b[0m\u001b[0;34m\u001b[0m\u001b[0;34m\u001b[0m\u001b[0m\n\u001b[1;32m     25\u001b[0m \u001b[0;34m\u001b[0m\u001b[0m\n",
            "\u001b[0;31mTypeError\u001b[0m: can only join an iterable"
          ]
        }
      ]
    }
  ]
}