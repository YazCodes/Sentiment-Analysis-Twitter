{
  "nbformat": 4,
  "nbformat_minor": 0,
  "metadata": {
    "colab": {
      "name": "SentimentAnalysisTwitter.ipynb",
      "provenance": [],
      "authorship_tag": "ABX9TyMApJD8STTzpZnV3t0RannE",
      "include_colab_link": true
    },
    "kernelspec": {
      "name": "python3",
      "display_name": "Python 3"
    }
  },
  "cells": [
    {
      "cell_type": "markdown",
      "metadata": {
        "id": "view-in-github",
        "colab_type": "text"
      },
      "source": [
        "<a href=\"https://colab.research.google.com/github/YazCodes/Sentiment-Analysis-Twitter/blob/main/SentimentAnalysisTwitter.ipynb\" target=\"_parent\"><img src=\"https://colab.research.google.com/assets/colab-badge.svg\" alt=\"Open In Colab\"/></a>"
      ]
    },
    {
      "cell_type": "code",
      "metadata": {
        "colab": {
          "base_uri": "https://localhost:8080/"
        },
        "id": "zl0-4Gj-LJqE",
        "outputId": "9771aeb5-e1ed-489a-fba5-6a89bf21fd3e"
      },
      "source": [
        "# import libraries\r\n",
        "import pandas as pd\r\n",
        "import numpy as np\r\n",
        "\r\n",
        "# libraries for data preprocessing\r\n",
        "import nltk\r\n",
        "# download modules available with NLTK\r\n",
        "nltk.download('punkt')\r\n",
        "nltk.download('wordnet')\r\n",
        "nltk.download('stopwords')\r\n",
        "\r\n",
        "from nltk.tokenize import TweetTokenizer #text preprocessing\r\n",
        "from nltk.stem import WordNetLemmatizer\r\n",
        "from nltk.corpus import stopwords\r\n",
        "\r\n",
        "# libraries for data split and feature extraction\r\n",
        "from sklearn.model_selection import train_test_split\r\n",
        "from sklearn.feature_extraction.text import CountVectorizer\r\n",
        "from sklearn.feature_extraction.text import TfidfVectorizer\r\n",
        "\r\n",
        "# library for evaluation\r\n",
        "from sklearn import metrics\r\n",
        "\r\n",
        "# libraries for ML algorithms for the experiment \r\n",
        "from sklearn import svm\r\n",
        "from sklearn import tree\r\n",
        "from sklearn.naive_bayes import GaussianNB\r\n",
        "\r\n",
        "# libraries for data plotting\r\n",
        "import matplotlib.pyplot as plt "
      ],
      "execution_count": 1,
      "outputs": [
        {
          "output_type": "stream",
          "text": [
            "[nltk_data] Downloading package punkt to /root/nltk_data...\n",
            "[nltk_data]   Unzipping tokenizers/punkt.zip.\n",
            "[nltk_data] Downloading package wordnet to /root/nltk_data...\n",
            "[nltk_data]   Unzipping corpora/wordnet.zip.\n",
            "[nltk_data] Downloading package stopwords to /root/nltk_data...\n",
            "[nltk_data]   Unzipping corpora/stopwords.zip.\n"
          ],
          "name": "stdout"
        }
      ]
    },
    {
      "cell_type": "code",
      "metadata": {
        "colab": {
          "base_uri": "https://localhost:8080/",
          "height": 212
        },
        "id": "7SMf5GsFM7z5",
        "outputId": "3d81a171-6968-4af6-bd77-9e7e6aae9d36"
      },
      "source": [
        "#uploading the dataset\r\n",
        "# read csv file into a dataframe\r\n",
        "df = pd.read_csv('/content/train.csv')\r\n",
        "\r\n",
        "# find out the number of entires \r\n",
        "print(f'Number of entries: {len(df)}')\r\n",
        "df.head()"
      ],
      "execution_count": 2,
      "outputs": [
        {
          "output_type": "stream",
          "text": [
            "Number of entries: 16363\n"
          ],
          "name": "stdout"
        },
        {
          "output_type": "execute_result",
          "data": {
            "text/html": [
              "<div>\n",
              "<style scoped>\n",
              "    .dataframe tbody tr th:only-of-type {\n",
              "        vertical-align: middle;\n",
              "    }\n",
              "\n",
              "    .dataframe tbody tr th {\n",
              "        vertical-align: top;\n",
              "    }\n",
              "\n",
              "    .dataframe thead th {\n",
              "        text-align: right;\n",
              "    }\n",
              "</style>\n",
              "<table border=\"1\" class=\"dataframe\">\n",
              "  <thead>\n",
              "    <tr style=\"text-align: right;\">\n",
              "      <th></th>\n",
              "      <th>Id</th>\n",
              "      <th>Text</th>\n",
              "      <th>Sentiment</th>\n",
              "    </tr>\n",
              "  </thead>\n",
              "  <tbody>\n",
              "    <tr>\n",
              "      <th>0</th>\n",
              "      <td>549e992a42</td>\n",
              "      <td>Sooo SAD I will miss you here in San Diego!!!</td>\n",
              "      <td>negative</td>\n",
              "    </tr>\n",
              "    <tr>\n",
              "      <th>1</th>\n",
              "      <td>088c60f138</td>\n",
              "      <td>my boss is bullying me...</td>\n",
              "      <td>negative</td>\n",
              "    </tr>\n",
              "    <tr>\n",
              "      <th>2</th>\n",
              "      <td>9642c003ef</td>\n",
              "      <td>what interview! leave me alone</td>\n",
              "      <td>negative</td>\n",
              "    </tr>\n",
              "    <tr>\n",
              "      <th>3</th>\n",
              "      <td>358bd9e861</td>\n",
              "      <td>Sons of ****, why couldn`t they put them on t...</td>\n",
              "      <td>negative</td>\n",
              "    </tr>\n",
              "    <tr>\n",
              "      <th>4</th>\n",
              "      <td>6e0c6d75b1</td>\n",
              "      <td>2am feedings for the baby are fun when he is a...</td>\n",
              "      <td>positive</td>\n",
              "    </tr>\n",
              "  </tbody>\n",
              "</table>\n",
              "</div>"
            ],
            "text/plain": [
              "           Id                                               Text Sentiment\n",
              "0  549e992a42      Sooo SAD I will miss you here in San Diego!!!  negative\n",
              "1  088c60f138                          my boss is bullying me...  negative\n",
              "2  9642c003ef                     what interview! leave me alone  negative\n",
              "3  358bd9e861   Sons of ****, why couldn`t they put them on t...  negative\n",
              "4  6e0c6d75b1  2am feedings for the baby are fun when he is a...  positive"
            ]
          },
          "metadata": {
            "tags": []
          },
          "execution_count": 2
        }
      ]
    },
    {
      "cell_type": "code",
      "metadata": {
        "colab": {
          "base_uri": "https://localhost:8080/",
          "height": 331
        },
        "id": "cjyNjWYxNafi",
        "outputId": "3a3d5001-f08c-4ab6-9e31-f2e090ddae02"
      },
      "source": [
        "#Analysising the data - Compare the amount of postitive and negative tweets \r\n",
        "temp_df = df[['Text', 'Sentiment']] #Using the text and sentiment colomn to plot the graph\r\n",
        "temp_df = temp_df.groupby('Sentiment').count() #count the number of diffrent elements in the sentiment column \r\n",
        "temp_df.plot.bar() #plot the bar chart "
      ],
      "execution_count": 3,
      "outputs": [
        {
          "output_type": "execute_result",
          "data": {
            "text/plain": [
              "<matplotlib.axes._subplots.AxesSubplot at 0x7f6b8efc6f98>"
            ]
          },
          "metadata": {
            "tags": []
          },
          "execution_count": 3
        },
        {
          "output_type": "display_data",
          "data": {
            "image/png": "[encoded data removed]",
            "text/plain": [
              "<Figure size 432x288 with 1 Axes>"
            ]
          },
          "metadata": {
            "tags": [],
            "needs_background": "light"
          }
        }
      ]
    },
    {
      "cell_type": "code",
      "metadata": {
        "colab": {
          "base_uri": "https://localhost:8080/"
        },
        "id": "_23hi3D8O-YA",
        "outputId": "25cf5255-7fc1-4dbc-806e-b2c1d3a25ef8"
      },
      "source": [
        "#Data cleaning  - Important step as the ML model and data processing cannot start if the dataset contains missing values\r\n",
        "\r\n",
        "df.isnull().values.any() #This shows if there are any missing values in the dataset. True = yes false = No\r\n",
        "\r\n",
        "df = df.dropna() #drop any rows with missing values - just in case \r\n",
        "\r\n",
        "print(f'Number of entries: {len(df)}') #check if the number of entries have changed"
      ],
      "execution_count": 4,
      "outputs": [
        {
          "output_type": "stream",
          "text": [
            "Number of entries: 16363\n"
          ],
          "name": "stdout"
        }
      ]
    },
    {
      "cell_type": "markdown",
      "metadata": {
        "id": "WlLLvcgXORMc"
      },
      "source": [
        "**The results of inital data analysis** \r\n",
        "The dataset contains 16363 entires consisting of three columns. \r\n",
        "\r\n",
        "\r\n",
        "1.   ID - The Id number of each text \r\n",
        "2.   Text - The tweet in text format \r\n",
        "3.   Sentiment - Indicating if the text is postive or negative\r\n",
        "\r\n",
        "\r\n",
        "The bar charts show the data set contains under 8000 negative tweets and about 8000 postive tweets. So nearly an equal split. \r\n",
        "\r\n",
        "During data cleaning there was no missing values"
      ]
    },
    {
      "cell_type": "code",
      "metadata": {
        "colab": {
          "base_uri": "https://localhost:8080/"
        },
        "id": "s2P2BqK8OQDS",
        "outputId": "63950e17-3ba9-4ae5-96a6-8c3605e3302f"
      },
      "source": [
        "#Data preprocessing - This transforms the raw data into an understantable format \r\n",
        "\r\n",
        "#Tokenisation - This is the process in NLP of splitting up text into smaller individual words called Tokens\r\n",
        "#Tokenisation is important as large amounts of text data needs to be broken down into smaller units of text so our ML models can understand. \r\n",
        "\r\n",
        "#Text preprocessing - cleaning and preparing text data\r\n",
        "#Selecting a tokenizer model. -  word_tokenize - Tokenizer for normal text\r\n",
        "from nltk.tokenize import word_tokenize\r\n",
        "\r\n",
        "\r\n",
        "list_tokenised_text = []  #Creat an empty list\r\n",
        "#for loop \r\n",
        "for text in df['Text']: # Converting text to tokens by iterating through each row in 'Text' columm of the dataset. \r\n",
        "  tokenized_text =  word_tokenize(text)\r\n",
        "  list_tokenised_text.append(tokenized_text) #Adding the tokenzie text inside the empty list \r\n",
        "\r\n",
        "print(list_tokenised_text[:2]) #the list containing the tokenzied text - [:2] = showing the first two items in the list\r\n",
        "\r\n",
        "#After tokenizing we need to put them back into sentences - as for feature generation, vectorisers you need to imput sentences \r\n",
        "\r\n",
        "list_tokenised_sentences = [] #creating an empty list to keep the tokenised sentences \r\n",
        "for tokens in list_tokenised_text:\r\n",
        "  text = ' '.join(tokens) #each sentence will be joined by a space \r\n",
        "  list_tokenised_sentences.append(text)\r\n",
        "\r\n",
        "# adding a  new column to data frame\r\n",
        "df['Tokenised_Text'] = list_tokenised_sentences\r\n",
        "\r\n"
      ],
      "execution_count": 5,
      "outputs": [
        {
          "output_type": "stream",
          "text": [
            "[['Sooo', 'SAD', 'I', 'will', 'miss', 'you', 'here', 'in', 'San', 'Diego', '!', '!', '!'], ['my', 'boss', 'is', 'bullying', 'me', '...']]\n"
          ],
          "name": "stdout"
        }
      ]
    },
    {
      "cell_type": "code",
      "metadata": {
        "colab": {
          "base_uri": "https://localhost:8080/"
        },
        "id": "qcara_dUeW8X",
        "outputId": "81a99b19-b649-4813-c0b6-76afb60db94c"
      },
      "source": [
        "#Text normalisation -  the process of transforming a text into a canonical (standard) form. For example, the word “gooood” and “gud” can be transformed to “good”, its canonical form.\r\n",
        "\r\n",
        "#breaking the word into it's smallest form\r\n",
        "\r\n",
        "wnl = WordNetLemmatizer() #creating an instance of WordNetLemmatizer(), converting a word to its base form. \r\n",
        "list_lemmatised_tokens = []\r\n",
        "# iterate through each list of tokens and lemmatise the tokens\r\n",
        "for tokens in list_tokenised_text:\r\n",
        "  lemma_words = []\r\n",
        "  for word in tokens:\r\n",
        "    lemma_word=wnl.lemmatize(word)\r\n",
        "    lemma_words.append(lemma_word)\r\n",
        "  list_lemmatised_tokens.append(lemma_words)\r\n",
        "\r\n",
        "print(list_lemmatised_tokens[:2])\r\n",
        "\r\n",
        "list_lemmatised_sentences = []\r\n",
        "for tokens in list_lemmatised_tokens:\r\n",
        "  text = ' '.join(tokens)\r\n",
        "  list_lemmatised_sentences.append(text)\r\n",
        "\r\n",
        "# add new column to data frame\r\n",
        "df['Lemmatised_Text'] = list_lemmatised_sentences"
      ],
      "execution_count": 12,
      "outputs": [
        {
          "output_type": "stream",
          "text": [
            "[['Sooo', 'SAD', 'I', 'will', 'miss', 'you', 'here', 'in', 'San', 'Diego', '!', '!', '!'], ['my', 'bos', 'is', 'bullying', 'me', '...']]\n"
          ],
          "name": "stdout"
        }
      ]
    },
    {
      "cell_type": "code",
      "metadata": {
        "colab": {
          "base_uri": "https://localhost:8080/"
        },
        "id": "2fgVHp27SIB6",
        "outputId": "ef7cb5ed-56d2-42b5-f038-0fee8fb83e72"
      },
      "source": [
        "#Text Preprocessing - Punctuatuion removal \r\n",
        "\r\n",
        "import string \r\n",
        "\r\n",
        "print(f'Punctuation marks to remove: {string.punctuation}') #The punctuation that will be removed from the text\r\n",
        "\r\n",
        "list_punctuation_removal = []\r\n",
        "\r\n",
        "for tokens in list_punctuation_removal:\r\n",
        "  punctuation_words = []\r\n",
        "  for word in tokens:\r\n",
        "    punctuation_words = str.maketrans(dict.fromkeys(string.punctuation))\r\n",
        "    list_punctuation_removal= punctuation_words.translate(word)\r\n",
        "    list_punctuation_removal.append(punctuation_words)\r\n",
        "\r\n",
        "print(list_punctuation_removal[:2])\r\n",
        "\r\n",
        "list_punctuation_removal_sentences = []\r\n",
        "for tokens in list_punctuation_removal:\r\n",
        "  text = ' '.join(tokens)\r\n",
        "  list_punctuation_removal_sentences.append(text)\r\n",
        "\r\n",
        "#df['punctuation removed text'] = list_punctuation_removal_sentences\r\n"
      ],
      "execution_count": 14,
      "outputs": [
        {
          "output_type": "stream",
          "text": [
            "Punctuation marks to remove: !\"#$%&'()*+,-./:;<=>?@[\\]^_`{|}~\n",
            "[]\n"
          ],
          "name": "stdout"
        }
      ]
    },
    {
      "cell_type": "code",
      "metadata": {
        "colab": {
          "base_uri": "https://localhost:8080/",
          "height": 927
        },
        "id": "d3-jIesZUW_d",
        "outputId": "e4b435dc-8dce-4777-c4d6-079876732170"
      },
      "source": [
        "# save updated data frame to a file\r\n",
        "# This step is optional for the main flow. But by saving data to a file you can analyse the preprocessed text output more deeply. \r\n",
        "df.to_csv('/content/reviews_preprocessed.csv', index=False)\r\n",
        "\r\n",
        "df.head(30)"
      ],
      "execution_count": 9,
      "outputs": [
        {
          "output_type": "execute_result",
          "data": {
            "text/html": [
              "<div>\n",
              "<style scoped>\n",
              "    .dataframe tbody tr th:only-of-type {\n",
              "        vertical-align: middle;\n",
              "    }\n",
              "\n",
              "    .dataframe tbody tr th {\n",
              "        vertical-align: top;\n",
              "    }\n",
              "\n",
              "    .dataframe thead th {\n",
              "        text-align: right;\n",
              "    }\n",
              "</style>\n",
              "<table border=\"1\" class=\"dataframe\">\n",
              "  <thead>\n",
              "    <tr style=\"text-align: right;\">\n",
              "      <th></th>\n",
              "      <th>Id</th>\n",
              "      <th>Text</th>\n",
              "      <th>Sentiment</th>\n",
              "      <th>Tokenised_Text</th>\n",
              "      <th>Lemmatised_Text</th>\n",
              "    </tr>\n",
              "  </thead>\n",
              "  <tbody>\n",
              "    <tr>\n",
              "      <th>0</th>\n",
              "      <td>549e992a42</td>\n",
              "      <td>Sooo SAD I will miss you here in San Diego!!!</td>\n",
              "      <td>negative</td>\n",
              "      <td>Sooo SAD I will miss you here in San Diego ! ! !</td>\n",
              "      <td>Sooo SAD I will miss you here in San Diego ! ! !</td>\n",
              "    </tr>\n",
              "    <tr>\n",
              "      <th>1</th>\n",
              "      <td>088c60f138</td>\n",
              "      <td>my boss is bullying me...</td>\n",
              "      <td>negative</td>\n",
              "      <td>my boss is bullying me ...</td>\n",
              "      <td>my bos is bullying me ...</td>\n",
              "    </tr>\n",
              "    <tr>\n",
              "      <th>2</th>\n",
              "      <td>9642c003ef</td>\n",
              "      <td>what interview! leave me alone</td>\n",
              "      <td>negative</td>\n",
              "      <td>what interview ! leave me alone</td>\n",
              "      <td>what interview ! leave me alone</td>\n",
              "    </tr>\n",
              "    <tr>\n",
              "      <th>3</th>\n",
              "      <td>358bd9e861</td>\n",
              "      <td>Sons of ****, why couldn`t they put them on t...</td>\n",
              "      <td>negative</td>\n",
              "      <td>Sons of **** , why couldn`t they put them on t...</td>\n",
              "      <td>Sons of **** , why couldn`t they put them on t...</td>\n",
              "    </tr>\n",
              "    <tr>\n",
              "      <th>4</th>\n",
              "      <td>6e0c6d75b1</td>\n",
              "      <td>2am feedings for the baby are fun when he is a...</td>\n",
              "      <td>positive</td>\n",
              "      <td>2am feedings for the baby are fun when he is a...</td>\n",
              "      <td>2am feeding for the baby are fun when he is al...</td>\n",
              "    </tr>\n",
              "    <tr>\n",
              "      <th>5</th>\n",
              "      <td>fc2cbefa9d</td>\n",
              "      <td>Journey!? Wow... u just became cooler.  hehe....</td>\n",
              "      <td>positive</td>\n",
              "      <td>Journey ! ? Wow ... u just became cooler . heh...</td>\n",
              "      <td>Journey ! ? Wow ... u just became cooler . heh...</td>\n",
              "    </tr>\n",
              "    <tr>\n",
              "      <th>6</th>\n",
              "      <td>16fab9f95b</td>\n",
              "      <td>I really really like the song Love Story by Ta...</td>\n",
              "      <td>positive</td>\n",
              "      <td>I really really like the song Love Story by Ta...</td>\n",
              "      <td>I really really like the song Love Story by Ta...</td>\n",
              "    </tr>\n",
              "    <tr>\n",
              "      <th>7</th>\n",
              "      <td>74a76f6e0a</td>\n",
              "      <td>My Sharpie is running DANGERously low on ink</td>\n",
              "      <td>negative</td>\n",
              "      <td>My Sharpie is running DANGERously low on ink</td>\n",
              "      <td>My Sharpie is running DANGERously low on ink</td>\n",
              "    </tr>\n",
              "    <tr>\n",
              "      <th>8</th>\n",
              "      <td>04dd1d2e34</td>\n",
              "      <td>i want to go to music tonight but i lost my vo...</td>\n",
              "      <td>negative</td>\n",
              "      <td>i want to go to music tonight but i lost my vo...</td>\n",
              "      <td>i want to go to music tonight but i lost my vo...</td>\n",
              "    </tr>\n",
              "    <tr>\n",
              "      <th>9</th>\n",
              "      <td>8a939bfb59</td>\n",
              "      <td>Uh oh, I am sunburned</td>\n",
              "      <td>negative</td>\n",
              "      <td>Uh oh , I am sunburned</td>\n",
              "      <td>Uh oh , I am sunburned</td>\n",
              "    </tr>\n",
              "    <tr>\n",
              "      <th>10</th>\n",
              "      <td>3440297f8b</td>\n",
              "      <td>S`ok, trying to plot alternatives as we speak...</td>\n",
              "      <td>negative</td>\n",
              "      <td>S`ok , trying to plot alternatives as we speak...</td>\n",
              "      <td>S`ok , trying to plot alternative a we speak *...</td>\n",
              "    </tr>\n",
              "    <tr>\n",
              "      <th>11</th>\n",
              "      <td>919fa93391</td>\n",
              "      <td>i`ve been sick for the past few days  and thus...</td>\n",
              "      <td>negative</td>\n",
              "      <td>i`ve been sick for the past few days and thus ...</td>\n",
              "      <td>i`ve been sick for the past few day and thus ,...</td>\n",
              "    </tr>\n",
              "    <tr>\n",
              "      <th>12</th>\n",
              "      <td>af3fed7fc3</td>\n",
              "      <td>is back home now      gonna miss every one</td>\n",
              "      <td>negative</td>\n",
              "      <td>is back home now gon na miss every one</td>\n",
              "      <td>is back home now gon na miss every one</td>\n",
              "    </tr>\n",
              "    <tr>\n",
              "      <th>13</th>\n",
              "      <td>e48b0b8a23</td>\n",
              "      <td>Playing Ghost Online is really interesting. Th...</td>\n",
              "      <td>positive</td>\n",
              "      <td>Playing Ghost Online is really interesting . T...</td>\n",
              "      <td>Playing Ghost Online is really interesting . T...</td>\n",
              "    </tr>\n",
              "    <tr>\n",
              "      <th>14</th>\n",
              "      <td>e00c6ef376</td>\n",
              "      <td>the free fillin` app on my ipod is fun, im add...</td>\n",
              "      <td>positive</td>\n",
              "      <td>the free fillin` app on my ipod is fun , im ad...</td>\n",
              "      <td>the free fillin` app on my ipod is fun , im ad...</td>\n",
              "    </tr>\n",
              "    <tr>\n",
              "      <th>15</th>\n",
              "      <td>852edc3769</td>\n",
              "      <td>I`m sorry.</td>\n",
              "      <td>negative</td>\n",
              "      <td>I`m sorry .</td>\n",
              "      <td>I`m sorry .</td>\n",
              "    </tr>\n",
              "    <tr>\n",
              "      <th>16</th>\n",
              "      <td>bdc32ea43c</td>\n",
              "      <td>On the way to Malaysia...no internet access to...</td>\n",
              "      <td>negative</td>\n",
              "      <td>On the way to Malaysia ... no internet access ...</td>\n",
              "      <td>On the way to Malaysia ... no internet access ...</td>\n",
              "    </tr>\n",
              "    <tr>\n",
              "      <th>17</th>\n",
              "      <td>6ce4a4954b</td>\n",
              "      <td>juss came backk from Berkeleyy ; omg its madd ...</td>\n",
              "      <td>positive</td>\n",
              "      <td>juss came backk from Berkeleyy ; omg its madd ...</td>\n",
              "      <td>juss came backk from Berkeleyy ; omg it madd f...</td>\n",
              "    </tr>\n",
              "    <tr>\n",
              "      <th>18</th>\n",
              "      <td>d22e6d40a7</td>\n",
              "      <td>Went to sleep and there is a power cut in Noid...</td>\n",
              "      <td>negative</td>\n",
              "      <td>Went to sleep and there is a power cut in Noid...</td>\n",
              "      <td>Went to sleep and there is a power cut in Noid...</td>\n",
              "    </tr>\n",
              "    <tr>\n",
              "      <th>19</th>\n",
              "      <td>d33f811375</td>\n",
              "      <td>I`m going home now. Have you seen my new twitt...</td>\n",
              "      <td>positive</td>\n",
              "      <td>I`m going home now . Have you seen my new twit...</td>\n",
              "      <td>I`m going home now . Have you seen my new twit...</td>\n",
              "    </tr>\n",
              "    <tr>\n",
              "      <th>20</th>\n",
              "      <td>7d8c4c11e4</td>\n",
              "      <td>i hope unni will make the audition . fighting ...</td>\n",
              "      <td>positive</td>\n",
              "      <td>i hope unni will make the audition . fighting ...</td>\n",
              "      <td>i hope unni will make the audition . fighting ...</td>\n",
              "    </tr>\n",
              "    <tr>\n",
              "      <th>21</th>\n",
              "      <td>1c31703aef</td>\n",
              "      <td>If it is any consolation I got my BMI tested ...</td>\n",
              "      <td>negative</td>\n",
              "      <td>If it is any consolation I got my BMI tested h...</td>\n",
              "      <td>If it is any consolation I got my BMI tested h...</td>\n",
              "    </tr>\n",
              "    <tr>\n",
              "      <th>22</th>\n",
              "      <td>2dc51711bc</td>\n",
              "      <td>That`s very funny.  Cute kids.</td>\n",
              "      <td>positive</td>\n",
              "      <td>That`s very funny . Cute kids .</td>\n",
              "      <td>That`s very funny . Cute kid .</td>\n",
              "    </tr>\n",
              "    <tr>\n",
              "      <th>23</th>\n",
              "      <td>2724775d6b</td>\n",
              "      <td>Born and raised in NYC and living in Texas for...</td>\n",
              "      <td>negative</td>\n",
              "      <td>Born and raised in NYC and living in Texas for...</td>\n",
              "      <td>Born and raised in NYC and living in Texas for...</td>\n",
              "    </tr>\n",
              "    <tr>\n",
              "      <th>24</th>\n",
              "      <td>4b61dffbeb</td>\n",
              "      <td>i`m soooooo sleeeeepy!!! the last day o` schoo...</td>\n",
              "      <td>negative</td>\n",
              "      <td>i`m soooooo sleeeeepy ! ! ! the last day o` sc...</td>\n",
              "      <td>i`m soooooo sleeeeepy ! ! ! the last day o` sc...</td>\n",
              "    </tr>\n",
              "    <tr>\n",
              "      <th>25</th>\n",
              "      <td>2863f435bd</td>\n",
              "      <td>A little happy for the wine jeje ok it`sm my f...</td>\n",
              "      <td>positive</td>\n",
              "      <td>A little happy for the wine jeje ok it`sm my f...</td>\n",
              "      <td>A little happy for the wine jeje ok it`sm my f...</td>\n",
              "    </tr>\n",
              "    <tr>\n",
              "      <th>26</th>\n",
              "      <td>fab6b7d16c</td>\n",
              "      <td>im an avid fan of **** magazine and i love you...</td>\n",
              "      <td>positive</td>\n",
              "      <td>im an avid fan of **** magazine and i love you...</td>\n",
              "      <td>im an avid fan of **** magazine and i love you...</td>\n",
              "    </tr>\n",
              "    <tr>\n",
              "      <th>27</th>\n",
              "      <td>c77717b103</td>\n",
              "      <td>I love to! But I`m only available from 5pm.  ...</td>\n",
              "      <td>positive</td>\n",
              "      <td>I love to ! But I`m only available from 5pm . ...</td>\n",
              "      <td>I love to ! But I`m only available from 5pm . ...</td>\n",
              "    </tr>\n",
              "    <tr>\n",
              "      <th>28</th>\n",
              "      <td>ddf296dffa</td>\n",
              "      <td>egh blah and boooooooooooo i dunno wanna go to...</td>\n",
              "      <td>negative</td>\n",
              "      <td>egh blah and boooooooooooo i dunno wan na go t...</td>\n",
              "      <td>egh blah and boooooooooooo i dunno wan na go t...</td>\n",
              "    </tr>\n",
              "    <tr>\n",
              "      <th>29</th>\n",
              "      <td>3d9d4b0b55</td>\n",
              "      <td>i donbt like to peel prawns, i also dont like ...</td>\n",
              "      <td>negative</td>\n",
              "      <td>i donbt like to peel prawns , i also dont like...</td>\n",
              "      <td>i donbt like to peel prawn , i also dont like ...</td>\n",
              "    </tr>\n",
              "  </tbody>\n",
              "</table>\n",
              "</div>"
            ],
            "text/plain": [
              "            Id  ...                                    Lemmatised_Text\n",
              "0   549e992a42  ...   Sooo SAD I will miss you here in San Diego ! ! !\n",
              "1   088c60f138  ...                          my bos is bullying me ...\n",
              "2   9642c003ef  ...                    what interview ! leave me alone\n",
              "3   358bd9e861  ...  Sons of **** , why couldn`t they put them on t...\n",
              "4   6e0c6d75b1  ...  2am feeding for the baby are fun when he is al...\n",
              "5   fc2cbefa9d  ...  Journey ! ? Wow ... u just became cooler . heh...\n",
              "6   16fab9f95b  ...  I really really like the song Love Story by Ta...\n",
              "7   74a76f6e0a  ...       My Sharpie is running DANGERously low on ink\n",
              "8   04dd1d2e34  ...  i want to go to music tonight but i lost my vo...\n",
              "9   8a939bfb59  ...                             Uh oh , I am sunburned\n",
              "10  3440297f8b  ...  S`ok , trying to plot alternative a we speak *...\n",
              "11  919fa93391  ...  i`ve been sick for the past few day and thus ,...\n",
              "12  af3fed7fc3  ...             is back home now gon na miss every one\n",
              "13  e48b0b8a23  ...  Playing Ghost Online is really interesting . T...\n",
              "14  e00c6ef376  ...  the free fillin` app on my ipod is fun , im ad...\n",
              "15  852edc3769  ...                                        I`m sorry .\n",
              "16  bdc32ea43c  ...  On the way to Malaysia ... no internet access ...\n",
              "17  6ce4a4954b  ...  juss came backk from Berkeleyy ; omg it madd f...\n",
              "18  d22e6d40a7  ...  Went to sleep and there is a power cut in Noid...\n",
              "19  d33f811375  ...  I`m going home now . Have you seen my new twit...\n",
              "20  7d8c4c11e4  ...  i hope unni will make the audition . fighting ...\n",
              "21  1c31703aef  ...  If it is any consolation I got my BMI tested h...\n",
              "22  2dc51711bc  ...                     That`s very funny . Cute kid .\n",
              "23  2724775d6b  ...  Born and raised in NYC and living in Texas for...\n",
              "24  4b61dffbeb  ...  i`m soooooo sleeeeepy ! ! ! the last day o` sc...\n",
              "25  2863f435bd  ...  A little happy for the wine jeje ok it`sm my f...\n",
              "26  fab6b7d16c  ...  im an avid fan of **** magazine and i love you...\n",
              "27  c77717b103  ...  I love to ! But I`m only available from 5pm . ...\n",
              "28  ddf296dffa  ...  egh blah and boooooooooooo i dunno wan na go t...\n",
              "29  3d9d4b0b55  ...  i donbt like to peel prawn , i also dont like ...\n",
              "\n",
              "[30 rows x 5 columns]"
            ]
          },
          "metadata": {
            "tags": []
          },
          "execution_count": 9
        }
      ]
    },
    {
      "cell_type": "code",
      "metadata": {
        "colab": {
          "base_uri": "https://localhost:8080/"
        },
        "id": "6PiQC1NWVRPD",
        "outputId": "a2a6e7b2-4ba4-438d-ba49-153be3cc73f4"
      },
      "source": [
        "#stop word removal - The process of removing words that do not add meaning/context to text\r\n",
        "stop_words = set(stopwords.words('english')) \r\n",
        "print(stop_words) #priniting out the 'stop words' "
      ],
      "execution_count": 10,
      "outputs": [
        {
          "output_type": "stream",
          "text": [
            "{\"you'd\", \"should've\", 'now', 'over', 'why', \"mightn't\", 'yourself', 'm', 'doesn', \"hasn't\", 'this', 'am', 'of', 'herself', 'again', 'ma', 'shouldn', 'not', 'should', 'through', 'whom', 'd', 'does', 'after', 'being', 'mightn', 'himself', 'as', 'yourselves', 'them', 'i', 'him', \"weren't\", 'he', 'needn', \"couldn't\", 'if', 'isn', 'with', 'each', 't', 'which', 'such', 'between', \"it's\", 'yours', 'on', 'hers', 'when', \"you're\", \"isn't\", 'by', 'haven', 'a', 'is', 'at', 'been', 'to', 'from', 'aren', 'don', 'before', 'who', 'under', 'those', \"doesn't\", 'was', 'had', 'and', 'because', \"wouldn't\", 'more', 'any', 'an', 'few', 'just', 's', 'shan', 'than', \"needn't\", 'were', 'our', 'myself', 'o', 'up', 'the', 'be', 'for', 've', 'do', 'so', 'how', 'can', 'off', \"wasn't\", 'then', 'we', 'no', 'itself', 'has', 'once', 're', 'wouldn', 'further', 'own', \"she's\", 'me', 'down', 'these', 'ain', 'mustn', 'y', 'very', 'couldn', 'ourselves', \"you've\", 'but', 'hasn', 'theirs', \"mustn't\", 'wasn', 'her', 'there', \"haven't\", \"aren't\", 'my', \"that'll\", 'against', \"didn't\", \"shouldn't\", 'they', \"hadn't\", 'won', 'you', \"you'll\", 'its', 'your', 'most', \"shan't\", 'have', 'are', 'his', 'here', 'hadn', 'did', \"don't\", 'll', 'some', 'other', 'during', 'only', 'that', 'into', 'out', 'all', \"won't\", 'too', 'until', 'doing', 'both', 'nor', 'above', 'their', 'will', 'themselves', 'or', 'ours', 'it', 'didn', 'she', 'having', 'while', 'in', 'what', 'where', 'below', 'same', 'about', 'weren'}\n"
          ],
          "name": "stdout"
        }
      ]
    },
    {
      "cell_type": "code",
      "metadata": {
        "id": "wFcOuzGdYJ3r"
      },
      "source": [
        ""
      ],
      "execution_count": null,
      "outputs": []
    },
    {
      "cell_type": "code",
      "metadata": {
        "colab": {
          "base_uri": "https://localhost:8080/"
        },
        "id": "GQDChsDKZqR3",
        "outputId": "6c111eda-5aaa-41cf-b2ae-bfec1f75d1d9"
      },
      "source": [
        "#Models \r\n",
        "\r\n",
        "#Step one - You must seperate the data into training set and validation set. \r\n",
        "#This ensures you stop the model from overfitting (the model will preform well on this particular dataset but will not work on new data) and to test and train your model to get the best accuracy.\r\n",
        "#The validation set is used to see how well your model will do on data that did not get used in training.\r\n",
        "#test set - run evaluation metrics on the test set at the very end of your project, to get a sense of how well your model will do in production\r\n",
        "\r\n",
        "#split training and test in each column - text, tokenised_text and lemmatised text\r\n",
        "X_train_text, X_val_text, y_train, y_val = train_test_split(df['Text'], df['Sentiment'], test_size=0.3, random_state=100)\r\n",
        "print(f'training data set size: {len(X_train_text)}')\r\n",
        "print(f'testing data set size: {len(X_val_text)}')\r\n",
        "\r\n",
        "# use tokenised text\r\n",
        "X_train_tokenised_text, X_val_tokenised_text, y_train, y_val = train_test_split(df['Tokenised_Text'], df['Sentiment'], test_size=0.3, random_state=100)\r\n",
        "print(f'training data set size: {len(X_train_tokenised_text)}')\r\n",
        "print(f'testing data set size: {len(X_val_tokenised_text)}')\r\n",
        "\r\n",
        "# use lemmatised text\r\n",
        "X_train_lemmatised_text, X_val_lemmatised_text, y_train, y_val = train_test_split(df['Lemmatised_Text'], df['Sentiment'], test_size=0.3, random_state=100)\r\n",
        "print(f'training data set size: {len(X_train_lemmatised_text)}')\r\n",
        "print(f'testing data set size: {len(X_val_lemmatised_text)}')"
      ],
      "execution_count": 11,
      "outputs": [
        {
          "output_type": "stream",
          "text": [
            "training data set size: 11454\n",
            "testing data set size: 4909\n",
            "training data set size: 11454\n",
            "testing data set size: 4909\n",
            "training data set size: 11454\n",
            "testing data set size: 4909\n"
          ],
          "name": "stdout"
        }
      ]
    },
    {
      "cell_type": "code",
      "metadata": {
        "id": "own_Fw4FeOx2"
      },
      "source": [
        "# NEED TO CHANGE - confusion matrix is a performance measurement technique for Machine learning classification. It is a kind of table which helps you to the know the performance of the classification model on a set of test data for that the true values are known\r\n",
        "#method to plot confusion matrix\r\n",
        "\r\n",
        "def plot_confusion_matrix(matrix):\r\n",
        "    plt.clf()\r\n",
        "    plt.imshow(matrix, interpolation='nearest', cmap=plt.cm.Set2_r)\r\n",
        "    classNames = ['Positive', 'Negative']\r\n",
        "    plt.title('Confusion Matrix')\r\n",
        "    plt.ylabel('Predicted')\r\n",
        "    plt.xlabel('Actual')\r\n",
        "    tick_marks = np.arange(len(classNames))\r\n",
        "    plt.xticks(tick_marks, classNames)\r\n",
        "    plt.yticks(tick_marks, classNames)\r\n",
        "    s = [['TP','FP'], ['FN', 'TN']]\r\n",
        "\r\n",
        "    for i in range(2):\r\n",
        "        for j in range(2):\r\n",
        "            plt.text(j,i, str(s[i][j])+\" = \"+str(matrix[i][j]))\r\n",
        "    plt.show()\r\n",
        "\r\n",
        "# method to calculate evaluation results\r\n",
        "def evaluate(actuals, predictions):\r\n",
        "  accuracy = metrics.accuracy_score(actuals, predictions)\r\n",
        "  confusion_matrix = metrics.confusion_matrix(actuals, predictions)\r\n",
        "  return accuracy, confusion_matrix"
      ],
      "execution_count": 26,
      "outputs": []
    },
    {
      "cell_type": "code",
      "metadata": {
        "id": "7noR1TJiemZX"
      },
      "source": [
        "#SVM (support vector machine) classifier - finding a hyperplane that best divides a dataset into two classes\r\n",
        "\r\n",
        "# method to train and predict using SVM classifier\r\n",
        "def get_svm_predictions(X_train, X_val, y_train, y_val):\r\n",
        "  # build model\r\n",
        "  clf = svm.SVC(kernel='linear', random_state=100) \r\n",
        "  clf.fit(X_train, y_train)\r\n",
        "\r\n",
        "  # Make predictions on test data\r\n",
        "  y_pred = clf.predict(X_val)\r\n",
        "\r\n",
        "  # evalution\r\n",
        "  accuracy, confusion_matrix = evaluate(y_val, y_pred)\r\n",
        "  print(f'Accuracy: {accuracy}')\r\n",
        "  plot_confusion_matrix(confusion_matrix)\r\n",
        "\r\n",
        "  return clf"
      ],
      "execution_count": 23,
      "outputs": []
    },
    {
      "cell_type": "code",
      "metadata": {
        "colab": {
          "base_uri": "https://localhost:8080/",
          "height": 313
        },
        "id": "R7fDY71ofCmi",
        "outputId": "9b90d3c9-43b0-4818-f138-914de67fd3bd"
      },
      "source": [
        "# Data preprocessing - lower casing, punctuation removal, tokenisation(NLTK), stop word removal\r\n",
        "# Features - tf-idf vector (1-grams)\r\n",
        "\r\n",
        "vectorizer = TfidfVectorizer(stop_words=stop_words)  # default: lowercase=True, ngram_range=(1,1)\r\n",
        "vectorizer.fit(X_train_tokenised_text)\r\n",
        "\r\n",
        "# convert train and test text data to numeric vectors\r\n",
        "X_train = vectorizer.transform(X_train_tokenised_text)\r\n",
        "X_val = vectorizer.transform(X_val_tokenised_text)\r\n",
        "\r\n",
        "model = get_svm_predictions(X_train, X_val, y_train, y_val)"
      ],
      "execution_count": 27,
      "outputs": [
        {
          "output_type": "stream",
          "text": [
            "Accuracy: 0.8578121817070686\n"
          ],
          "name": "stdout"
        },
        {
          "output_type": "display_data",
          "data": {
            "image/png": "[encoded data removed]",
            "text/plain": [
              "<Figure size 432x288 with 1 Axes>"
            ]
          },
          "metadata": {
            "tags": [],
            "needs_background": "light"
          }
        }
      ]
    },
    {
      "cell_type": "code",
      "metadata": {
        "colab": {
          "base_uri": "https://localhost:8080/",
          "height": 313
        },
        "id": "DHtTMqTnf9X3",
        "outputId": "fc831238-a4ae-425d-e526-b20f1cd85fb3"
      },
      "source": [
        "\r\n",
        "vectorizer = CountVectorizer()  # default: lowercase=True, ngram_range=(1,1)\r\n",
        "vectorizer.fit(X_train_text)\r\n",
        "\r\n",
        "# convert train and test text data to numeric vectors\r\n",
        "X_train = vectorizer.transform(X_train_text)\r\n",
        "X_val = vectorizer.transform(X_val_text)\r\n",
        "\r\n",
        "model = get_svm_predictions(X_train, X_val, y_train, y_val)"
      ],
      "execution_count": 28,
      "outputs": [
        {
          "output_type": "stream",
          "text": [
            "Accuracy: 0.8602566714198411\n"
          ],
          "name": "stdout"
        },
        {
          "output_type": "display_data",
          "data": {
            "image/png": "[encoded data removed]",
            "text/plain": [
              "<Figure size 432x288 with 1 Axes>"
            ]
          },
          "metadata": {
            "tags": [],
            "needs_background": "light"
          }
        }
      ]
    },
    {
      "cell_type": "code",
      "metadata": {
        "colab": {
          "base_uri": "https://localhost:8080/",
          "height": 313
        },
        "id": "0M871CbYfvi0",
        "outputId": "3138731b-ad2d-4e10-9c34-36654bb83c4b"
      },
      "source": [
        "# Data preprocessing - lower casing, punctuation removal\r\n",
        "# Features - tf-idf vector (1-grams)\r\n",
        "\r\n",
        "vectorizer = TfidfVectorizer()  # default: lowercase=True, ngram_range=(1,1)\r\n",
        "vectorizer.fit(X_train_text)\r\n",
        "\r\n",
        "# convert train and test text data to numeric vectors\r\n",
        "X_train = vectorizer.transform(X_train_text)\r\n",
        "X_val = vectorizer.transform(X_val_text)\r\n",
        "\r\n",
        "model = get_svm_predictions(X_train, X_val, y_train, y_val)"
      ],
      "execution_count": 29,
      "outputs": [
        {
          "output_type": "stream",
          "text": [
            "Accuracy: 0.8690160928906091\n"
          ],
          "name": "stdout"
        },
        {
          "output_type": "display_data",
          "data": {
            "image/png": "[encoded data removed]",
            "text/plain": [
              "<Figure size 432x288 with 1 Axes>"
            ]
          },
          "metadata": {
            "tags": [],
            "needs_background": "light"
          }
        }
      ]
    },
    {
      "cell_type": "code",
      "metadata": {
        "id": "L4a7Wd2liOhY"
      },
      "source": [
        "#test performance "
      ],
      "execution_count": null,
      "outputs": []
    }
  ]
}